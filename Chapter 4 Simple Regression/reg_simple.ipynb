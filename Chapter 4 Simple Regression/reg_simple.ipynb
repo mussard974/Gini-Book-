{
 "cells": [
  {
   "cell_type": "markdown",
   "metadata": {},
   "source": [
    "<div align=\"center\">\n",
    "\n",
    "#### [S. Mussard](https://sites.google.com/view/cv-stphane-mussard/accueil \"Homepage\") \n",
    "\n",
    "</div>\n",
    "\n",
    "<div align=\"center\">\n",
    "\n",
    "#### Chapter 4: Simple Gini Regressions \n",
    "\n",
    "</div>\n",
    "\n",
    "\n",
    "<div align=\"center\"> <a href=\"https://www.python.org/\"><img src=\"https://upload.wikimedia.org/wikipedia/commons/thumb/f/f8/Python_logo_and_wordmark.svg/390px-Python_logo_and_wordmark.svg.png\" style=\"max-width: 150px; display: inline\" alt=\"Python\"/></a> \n",
    "\n",
    "</div>\n",
    "\n",
    "\n",
    "<div align=\"center\"> </div>\n",
    "\n",
    "<div align=\"center\">\n",
    "\n",
    "Cite: S. Mussard (2025), *Machine Learning with Gini Indices: Applications with Python*, Springer.  \n",
    "\n",
    "</div>\n",
    "\n"
   ]
  },
  {
   "cell_type": "code",
   "execution_count": 2,
   "metadata": {},
   "outputs": [],
   "source": [
    "'''\n",
    "Simple Gini Regressions\n",
    "    \n",
    "    Simple non parametric Gini regression\n",
    "    Simple parametric Gini regression\n",
    "    Comparison with statsmodels Huber (robust estimation)\n",
    "    Examples of estimations with outliers\n",
    "    Test for linearity\n",
    "    \n",
    "'''\n",
    "\n",
    "import numpy as np\n",
    "import matplotlib.pyplot as plt\n",
    "import scipy.stats as ss\n",
    "from scipy.optimize import minimize\n",
    "from scipy.stats import norm\n",
    "\n",
    "# Generate some points\n",
    "n = 30 \n",
    "x = np.arange(0,n) + np.random.rand(n)\n",
    "y = np.arange(0,n)*2\n",
    "\n",
    "# Non-parametric Gini regression\n",
    "rank_x = ss.rankdata(x, method='average')\n",
    "beta_gini = np.cov(y.T,rank_x.T)[0][1] / np.cov(x.T,rank_x.T)[0][1]\n",
    "alpha_gini = np.mean(y) - beta_gini*np.mean(x)\n",
    "\n",
    "# OLS\n",
    "beta_ols = np.cov(y.T,x.T)[0][1] / np.cov(x.T,x.T)[0][1]\n",
    "alpha_ols = np.mean(y) - beta_ols*np.mean(x)"
   ]
  },
  {
   "cell_type": "code",
   "execution_count": null,
   "metadata": {},
   "outputs": [],
   "source": [
    "# Diagram\n",
    "plt.plot(x, y, '*', label='Original points')\n",
    "plt.plot(x, alpha_gini + x*beta_gini, 'r', label='Gini Regression line')\n",
    "plt.plot(x, alpha_ols + x*beta_ols, 'b', label='OLS Regression line')\n",
    "plt.legend()\n",
    "plt.show()"
   ]
  },
  {
   "cell_type": "code",
   "execution_count": null,
   "metadata": {},
   "outputs": [],
   "source": [
    "# Generate some points\n",
    "x = np.arange(0,n) + np.random.rand(n)\n",
    "y = np.arange(0,n)*2\n",
    "\n",
    "# Outlier in x[19] \n",
    "x[19] = x[19]*4\n",
    "# Try outlier in y[19]=38 : now y[19] = y[19]*10 (rank_x does not change)\n",
    "\n",
    "# Non-parametric Gini regression\n",
    "beta_gini = np.cov(y.T,rank_x.T)[0][1] / np.cov(x.T,rank_x.T)[0][1]\n",
    "alpha_gini = np.mean(y) - beta_gini*np.mean(x)\n",
    "\n",
    "# OLS\n",
    "beta_ols = np.cov(y.T,x.T)[0][1] / np.cov(x.T,x.T)[0][1]\n",
    "alpha_ols = np.mean(y) - beta_ols*np.mean(x)  \n",
    "\n",
    "# Diagram\n",
    "plt.plot(x, y, '+', label='Original points')\n",
    "plt.plot(x[19], y[19], 'or', label='Outlier')\n",
    "plt.plot(x, alpha_gini + x*beta_gini, 'r', label='Gini Regression')\n",
    "plt.plot(x, alpha_ols + x*beta_ols, 'b', label='OLS Regression')\n",
    "plt.legend()\n",
    "plt.show()"
   ]
  },
  {
   "cell_type": "code",
   "execution_count": null,
   "metadata": {},
   "outputs": [],
   "source": [
    "# reshape x and y\n",
    "x = np.reshape(x,(n,1))\n",
    "y = np.reshape(y,(n,1))\n",
    "# put y, constant and x in matrix X\n",
    "X = np.concatenate((y,np.ones((n,1)), x), axis = 1) \n"
   ]
  },
  {
   "cell_type": "code",
   "execution_count": null,
   "metadata": {},
   "outputs": [],
   "source": [
    "# Parametric Gini regression\n",
    "def gini_param(coef, X):\n",
    "    residuals = X[:, 0] - (coef * X[:, 1:]).sum(axis=1)\n",
    "    rank_residuals = ss.rankdata(residuals, method='average')\n",
    "    return 1/n*np.cov(residuals.T,rank_residuals.T)[0][1] # function to minimize\n",
    "\n",
    "initial = [0, 0]\n",
    "result = minimize(gini_param, initial, args=X)\n",
    "alpha_gini_param = result.x[0]\n",
    "beta_gini_param = result.x[1]\n",
    "print(\"coefficient estimates\",alpha_gini_param, beta_gini_param)\n",
    "print(\"min function\",result.fun) # min of the function on the points estimates"
   ]
  },
  {
   "cell_type": "code",
   "execution_count": null,
   "metadata": {},
   "outputs": [],
   "source": [
    "# Output\n",
    "print(\"coef. Gini non parametric:\", alpha_gini, beta_gini)\n",
    "print(\"coef. Gini parametric:\", result.x)\n",
    "print(\"coef. ols:\", alpha_ols, beta_ols)\n",
    "# Diagram\n",
    "plt.plot(x, y, '+', label='Original points')\n",
    "plt.plot(x[19], y[19], 'or', label='Outlier')\n",
    "plt.plot(x, alpha_gini + x*beta_gini, 'r', label='Gini Regression non-param')\n",
    "plt.plot(x, alpha_gini_param + x*beta_gini_param, 'k', label='Gini Regression param')\n",
    "plt.plot(x, alpha_ols + x*beta_ols, 'b', label='OLS Regression')\n",
    "plt.legend()\n",
    "plt.show()\n"
   ]
  },
  {
   "cell_type": "code",
   "execution_count": null,
   "metadata": {},
   "outputs": [],
   "source": [
    "# Load statsmodels for Huber robust estimation \n",
    "import statsmodels.api as sm\n",
    "x_with_constant = sm.add_constant(x)\n",
    "robust_model = sm.RLM(y, x_with_constant, M=sm.robust.norms.HuberT())\n",
    "robust_model_results = robust_model.fit()\n",
    "print(robust_model_results.params)\n"
   ]
  },
  {
   "cell_type": "code",
   "execution_count": null,
   "metadata": {},
   "outputs": [],
   "source": [
    "# Diagram\n",
    "plt.plot(x, y, '+', label='Original points')\n",
    "plt.plot(x[19], y[19], 'or', label='Outlier')\n",
    "plt.plot(x, alpha_gini + x*beta_gini, 'r', label='Gini Regression non-param')\n",
    "plt.plot(x, alpha_gini_param + x*beta_gini_param, 'k', label='Gini Regression param')\n",
    "plt.plot(x, alpha_ols + x*beta_ols, 'b', label='OLS Regression')\n",
    "plt.plot(x, robust_model_results.params[0] + x*robust_model_results.params[1], 'g', label='Robust Regression')\n",
    "plt.legend()\n",
    "plt.show()"
   ]
  },
  {
   "cell_type": "markdown",
   "metadata": {},
   "source": [
    "## Testing for linearity"
   ]
  },
  {
   "cell_type": "code",
   "execution_count": null,
   "metadata": {},
   "outputs": [],
   "source": [
    "def linearity(y, x):\n",
    "    rank_x = ss.rankdata(x, method='average')\n",
    "    beta_gini = np.cov(y.T,rank_x.T)[0][1] / np.cov(x.T,rank_x.T)[0][1]\n",
    "    alpha_gini = np.mean(y) - beta_gini*np.mean(x)\n",
    "    residuals = y - alpha_gini - beta_gini*x\n",
    "    rank_residuals = ss.rankdata(residuals, method='average')\n",
    "    U = np.cov(x.T,rank_residuals.T)[0][1]\n",
    "    return U\n",
    "\n",
    "def jackknife(y, x):\n",
    "    U_list = []\n",
    "    n = len(x)\n",
    "    for i in range (n):\n",
    "        x_jack = np.delete(x, i, axis=0)\n",
    "        y_jack = np.delete(y, i, axis=0)\n",
    "        rank_xjack = ss.rankdata(x_jack, method='average')\n",
    "        beta_gini = np.cov(y_jack.T,rank_xjack.T)[0][1] / np.cov(x_jack.T,rank_xjack.T)[0][1]\n",
    "        alpha_gini = np.mean(y_jack) - beta_gini*np.mean(x_jack)\n",
    "        residuals = y_jack - alpha_gini - beta_gini*x_jack\n",
    "        rank_residuals = ss.rankdata(residuals, method='average')\n",
    "        U = np.cov(x_jack.T,rank_residuals.T)[0][1]\n",
    "        U_list.append(U)\n",
    "    variance_U = (n-1)/n*(np.sum((U_list - np.mean(U_list))**2))\n",
    "    stdev_U = np.sqrt(variance_U) \n",
    "    return stdev_U \n",
    "\n",
    "# Test of linearity:\n",
    "u_statistics_coeff = linearity(y,x) / jackknife(y,x)\n",
    "p_values_coeff = (1-norm.cdf(np.abs(u_statistics_coeff)))*2\n",
    "print(\"p_value =\", p_values_coeff)\n"
   ]
  }
 ],
 "metadata": {
  "kernelspec": {
   "display_name": "base",
   "language": "python",
   "name": "python3"
  },
  "language_info": {
   "codemirror_mode": {
    "name": "ipython",
    "version": 3
   },
   "file_extension": ".py",
   "mimetype": "text/x-python",
   "name": "python",
   "nbconvert_exporter": "python",
   "pygments_lexer": "ipython3",
   "version": "3.7.11"
  },
  "orig_nbformat": 4
 },
 "nbformat": 4,
 "nbformat_minor": 2
}
