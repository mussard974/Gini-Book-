{
 "cells": [
  {
   "cell_type": "markdown",
   "metadata": {},
   "source": [
    "<div align=\"center\">\n",
    "\n",
    "#### [S. Mussard](https://sites.google.com/view/cv-stphane-mussard/accueil \"Homepage\") \n",
    "\n",
    "</div>\n",
    "\n",
    "<div align=\"center\">\n",
    "\n",
    "#### Chapter 3: Gini Indices, co-Gini Operators and Inference \n",
    "\n",
    "</div>\n",
    "\n",
    "\n",
    "<div align=\"center\"> <a href=\"https://www.python.org/\"><img src=\"https://upload.wikimedia.org/wikipedia/commons/thumb/f/f8/Python_logo_and_wordmark.svg/390px-Python_logo_and_wordmark.svg.png\" style=\"max-width: 150px; display: inline\" alt=\"Python\"/></a> \n",
    "\n",
    "</div>\n",
    "\n",
    "\n",
    "<div align=\"center\"> </div>\n",
    "\n",
    "<div align=\"center\">\n",
    "\n",
    "Cite: S. Mussard (2025), *Machine Learning with Gini Indices: Applications with Python*, Springer.  \n",
    "\n",
    "</div>\n",
    "\n"
   ]
  },
  {
   "cell_type": "code",
   "execution_count": 1,
   "metadata": {},
   "outputs": [
    {
     "name": "stdout",
     "output_type": "stream",
     "text": [
      "Gini_cor=-0.8421052631578947\n",
      "Pearson_cor=-0.6207632460155045\n"
     ]
    }
   ],
   "source": [
    "'''\n",
    "Extended Gini correlation\n",
    "    \n",
    "'''\n",
    "try:\n",
    "    from OUTLIERS import smirnov_grubbs as grubbs\n",
    "except ImportError:\n",
    "    from outliers import smirnov_grubbs as grubbs\n",
    "import numpy as np\n",
    "import scipy.stats as ss\n",
    "\n",
    "def gini_cor(x,y,nu):\n",
    "    n = x.shape[0] \n",
    "    rank_x = (n + 1 - ss.rankdata(x, method='average'))**(nu-1)\n",
    "    rank_y = (n + 1 - ss.rankdata(y, method='average'))**(nu-1)\n",
    "    gmd_xy = np.cov(x, rank_y)[0][1]\n",
    "    gmd_x = np.cov(x, rank_x)[0][1] \n",
    "    print(f'Gini_cor={gmd_xy/gmd_x}')\n",
    "    print(f'Pearson_cor={np.corrcoef(x,y)[0][1]}')\n",
    "    \n",
    "nu = -100\n",
    "x = np.array([1, 2, 3, 4, 0.5])\n",
    "y = np.array([2,4,6,8,1000])\n",
    "gini_cor(x,y,nu)\n"
   ]
  },
  {
   "cell_type": "code",
   "execution_count": 6,
   "metadata": {},
   "outputs": [
    {
     "name": "stdout",
     "output_type": "stream",
     "text": [
      "Number of outliers: 1\n",
      "Number of outliers: 0\n"
     ]
    }
   ],
   "source": [
    "# Outliers: Grubbs test see https://pypi.org/project/outlier-utils/\n",
    "\n",
    "def outliers(x):\n",
    "    if x.ndim == 1 or x.shape[1] is None: \n",
    "        outliers_numbers = np.array([len(grubbs.max_test_indices(x, alpha=0.1))])\n",
    "    else:\n",
    "        outliers_numbers = np.array([\n",
    "            len(grubbs.max_test_indices(x[:, i], alpha=0.1)) for i in range(x.shape[1])\n",
    "        ])\n",
    "    return print(f'Number of outliers: {outliers_numbers.sum()}')\n",
    "\n",
    "# Test on y\n",
    "outliers(y)\n",
    "# Test on x\n",
    "outliers(x)"
   ]
  }
 ],
 "metadata": {
  "kernelspec": {
   "display_name": "base",
   "language": "python",
   "name": "python3"
  },
  "language_info": {
   "codemirror_mode": {
    "name": "ipython",
    "version": 3
   },
   "file_extension": ".py",
   "mimetype": "text/x-python",
   "name": "python",
   "nbconvert_exporter": "python",
   "pygments_lexer": "ipython3",
   "version": "3.8.8"
  },
  "orig_nbformat": 4
 },
 "nbformat": 4,
 "nbformat_minor": 2
}
